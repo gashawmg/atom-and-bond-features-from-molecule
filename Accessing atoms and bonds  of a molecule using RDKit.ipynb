{
  "cells": [
    {
      "cell_type": "markdown",
      "metadata": {
        "id": "view-in-github",
        "colab_type": "text"
      },
      "source": [
        "<a href=\"https://colab.research.google.com/github/gashawmg/atom-and-bond-features-from-molecule/blob/main/Accessing%20atoms%20and%20bonds%20%20of%20a%20molecule%20using%20RDKit.ipynb\" target=\"_parent\"><img src=\"https://colab.research.google.com/assets/colab-badge.svg\" alt=\"Open In Colab\"/></a>"
      ]
    },
    {
      "cell_type": "markdown",
      "metadata": {
        "id": "-5pKURiWpu_O"
      },
      "source": [
        "<div style=\"background-color:lightgreen; border-style: double;border-color: #00beef;text-align:center;color:blue;font-size:25px;border-radius: 50px;padding: 20px 20px; font-family:Raleway;\"><strong> Gashaw M. Goshu, Ph.D. in Chemistry</strong></div>"
      ]
    },
    {
      "cell_type": "code",
      "source": [
        "!pip install rdkit-pypi"
      ],
      "metadata": {
        "id": "qE_pFygYp3bo",
        "outputId": "5010e8c1-0b26-4302-da9c-415416d9f1c7",
        "colab": {
          "base_uri": "https://localhost:8080/"
        }
      },
      "execution_count": 1,
      "outputs": [
        {
          "output_type": "stream",
          "name": "stdout",
          "text": [
            "Looking in indexes: https://pypi.org/simple, https://us-python.pkg.dev/colab-wheels/public/simple/\n",
            "Collecting rdkit-pypi\n",
            "  Downloading rdkit_pypi-2022.9.5-cp38-cp38-manylinux_2_17_x86_64.manylinux2014_x86_64.whl (29.4 MB)\n",
            "\u001b[2K     \u001b[90m━━━━━━━━━━━━━━━━━━━━━━━━━━━━━━━━━━━━━━━━\u001b[0m \u001b[32m29.4/29.4 MB\u001b[0m \u001b[31m14.7 MB/s\u001b[0m eta \u001b[36m0:00:00\u001b[0m\n",
            "\u001b[?25hRequirement already satisfied: numpy in /usr/local/lib/python3.8/dist-packages (from rdkit-pypi) (1.22.4)\n",
            "Requirement already satisfied: Pillow in /usr/local/lib/python3.8/dist-packages (from rdkit-pypi) (8.4.0)\n",
            "Installing collected packages: rdkit-pypi\n",
            "Successfully installed rdkit-pypi-2022.9.5\n"
          ]
        }
      ]
    },
    {
      "cell_type": "markdown",
      "metadata": {
        "id": "aFi5PShrpu_P"
      },
      "source": [
        "<div style=\"text-align:left;color:darkblue;font-size:20px; padding: 20px 20px;\"><strong> Generating a molecular graph in RDKit, and accessing its atoms and bonds </strong></div>"
      ]
    },
    {
      "cell_type": "markdown",
      "metadata": {
        "id": "NgupnZRXpu_P"
      },
      "source": [
        "Reference: RdKit [documentation](https://www.rdkit.org/docs/GettingStartedInPython.html)"
      ]
    },
    {
      "cell_type": "code",
      "execution_count": 2,
      "metadata": {
        "id": "W3Q-T71-pu_P"
      },
      "outputs": [],
      "source": [
        "# ----------------------------------\n",
        "from rdkit.Chem import AllChem\n",
        "from rdkit import Chem\n",
        "from rdkit.Chem import Descriptors\n",
        "# --- ------------------------------\n",
        "import numpy as np\n",
        "import pandas as pd"
      ]
    },
    {
      "cell_type": "markdown",
      "metadata": {
        "id": "9RR83SOzpu_P"
      },
      "source": [
        "# Molecular Representation"
      ]
    },
    {
      "cell_type": "code",
      "execution_count": 3,
      "metadata": {
        "id": "qnHIC2vYpu_Q",
        "outputId": "c6662ad3-6305-425a-de16-2e6bcd82829a",
        "colab": {
          "base_uri": "https://localhost:8080/",
          "height": 167
        }
      },
      "outputs": [
        {
          "output_type": "execute_result",
          "data": {
            "text/plain": [
              "<rdkit.Chem.rdchem.Mol at 0x7fed7c087cf0>"
            ],
            "image/png": "[encoded data removed]"
          },
          "metadata": {},
          "execution_count": 3
        }
      ],
      "source": [
        "# Molecular graph\n",
        "mol= Chem.MolFromSmiles('CC(=O)[O-]')\n",
        "mol"
      ]
    },
    {
      "cell_type": "markdown",
      "metadata": {
        "id": "hA5z_o84pu_Q"
      },
      "source": [
        "## 1. Accessing atoms and their features from a molecular graph\n",
        "Atom has :\n",
        "* symbol, \n",
        "* index,\n",
        "* atomic number,\n",
        "* atomic mass, \n",
        "* hybridization and so on."
      ]
    },
    {
      "cell_type": "code",
      "execution_count": 4,
      "metadata": {
        "id": "cpFvtEkEpu_Q",
        "outputId": "c7476118-7426-4677-db96-6ba861278ec9",
        "colab": {
          "base_uri": "https://localhost:8080/"
        }
      },
      "outputs": [
        {
          "output_type": "execute_result",
          "data": {
            "text/plain": [
              "6"
            ]
          },
          "metadata": {},
          "execution_count": 4
        }
      ],
      "source": [
        "# Get atomic number \n",
        "mol.GetAtoms()[0].GetAtomicNum()"
      ]
    },
    {
      "cell_type": "markdown",
      "metadata": {
        "id": "V0_mLMwjpu_Q"
      },
      "source": [
        "## Need to use a for loop"
      ]
    },
    {
      "cell_type": "code",
      "execution_count": 5,
      "metadata": {
        "id": "EzaVdBB5pu_R"
      },
      "outputs": [],
      "source": [
        "# Accessing atomic symbol \n",
        "atom_symbols = []\n",
        "\n",
        "for atom in mol.GetAtoms():\n",
        "    atom_symbols.append(atom.GetSymbol())"
      ]
    },
    {
      "cell_type": "code",
      "execution_count": 6,
      "metadata": {
        "scrolled": true,
        "id": "EioBVyqJpu_R",
        "outputId": "79c65c51-19e7-4d61-e4c5-edacb6867487",
        "colab": {
          "base_uri": "https://localhost:8080/"
        }
      },
      "outputs": [
        {
          "output_type": "execute_result",
          "data": {
            "text/plain": [
              "['C', 'C', 'O', 'O']"
            ]
          },
          "metadata": {},
          "execution_count": 6
        }
      ],
      "source": [
        "atom_symbols"
      ]
    },
    {
      "cell_type": "code",
      "execution_count": 7,
      "metadata": {
        "id": "ARG9FfFMpu_R",
        "outputId": "b308730e-4c23-4fdf-cdc1-c43a40b24a73",
        "colab": {
          "base_uri": "https://localhost:8080/"
        }
      },
      "outputs": [
        {
          "output_type": "execute_result",
          "data": {
            "text/plain": [
              "['C', 'C', 'O', 'O']"
            ]
          },
          "metadata": {},
          "execution_count": 7
        }
      ],
      "source": [
        "# Accessing atomic symbols\n",
        "\n",
        "atm_symbols = [atom.GetSymbol() for atom in mol.GetAtoms()]\n",
        "atm_symbols"
      ]
    },
    {
      "cell_type": "code",
      "execution_count": 8,
      "metadata": {
        "id": "0A42VSBNpu_R",
        "outputId": "78e91a8f-c63e-42b2-e3aa-461576eb47b9",
        "colab": {
          "base_uri": "https://localhost:8080/"
        }
      },
      "outputs": [
        {
          "output_type": "execute_result",
          "data": {
            "text/plain": [
              "[3, 0, 0, 0]"
            ]
          },
          "metadata": {},
          "execution_count": 8
        }
      ],
      "source": [
        "# Calculate the total number hydrogens\n",
        "\n",
        "nub_hydrogens = [atom.GetTotalNumHs(includeNeighbors=True) for atom in mol.GetAtoms()]\n",
        "nub_hydrogens"
      ]
    },
    {
      "cell_type": "code",
      "execution_count": 9,
      "metadata": {
        "id": "Uh93be2zpu_R",
        "outputId": "e3dfbb55-82fb-4d54-d693-38b19de35cd7",
        "colab": {
          "base_uri": "https://localhost:8080/"
        }
      },
      "outputs": [
        {
          "output_type": "stream",
          "name": "stdout",
          "text": [
            "0 C 6 12.011 SP3 0 1 3 1 False\n",
            "1 C 6 12.011 SP2 0 3 0 4 False\n",
            "2 O 8 15.999 SP2 0 1 0 2 False\n",
            "3 O 8 15.999 SP2 -1 1 0 1 False\n"
          ]
        }
      ],
      "source": [
        "# Informatin about Atoms\n",
        "\n",
        "for atom in mol.GetAtoms():\n",
        "    print(atom.GetIdx(),\n",
        "          atom.GetSymbol(), \n",
        "          atom.GetAtomicNum(),\n",
        "          atom.GetMass(),\n",
        "          atom.GetHybridization(),\n",
        "          atom.GetFormalCharge(),\n",
        "          atom.GetDegree(),\n",
        "          atom.GetTotalNumHs(includeNeighbors=True),\n",
        "          atom.GetExplicitValence(),\n",
        "          atom.GetIsAromatic())"
      ]
    },
    {
      "cell_type": "markdown",
      "metadata": {
        "id": "oPN8AGhLpu_R"
      },
      "source": [
        "##  2. Accessing bonds from a molecule\n"
      ]
    },
    {
      "cell_type": "code",
      "execution_count": 10,
      "metadata": {
        "id": "9Apf3OPnpu_R",
        "outputId": "a85c409c-5fee-4ef1-e249-c35e317d9423",
        "colab": {
          "base_uri": "https://localhost:8080/"
        }
      },
      "outputs": [
        {
          "output_type": "execute_result",
          "data": {
            "text/plain": [
              "[1.0, 2.0, 1.0]"
            ]
          },
          "metadata": {},
          "execution_count": 10
        }
      ],
      "source": [
        "# Accessing single, double and triple bonds\n",
        "\n",
        "[bond.GetBondTypeAsDouble() for bond in mol.GetBonds()]"
      ]
    },
    {
      "cell_type": "code",
      "execution_count": 11,
      "metadata": {
        "id": "hMgQPpTMpu_R",
        "outputId": "28e4efe5-70bd-4e8e-c3eb-4c61096bea00",
        "colab": {
          "base_uri": "https://localhost:8080/"
        }
      },
      "outputs": [
        {
          "output_type": "stream",
          "name": "stdout",
          "text": [
            "1.0 0 1 False\n",
            "2.0 1 2 False\n",
            "1.0 1 3 False\n"
          ]
        }
      ],
      "source": [
        "# Informatin about Bonds\n",
        "\n",
        "for bond in mol.GetBonds():\n",
        "    print(bond.GetBondTypeAsDouble(),\n",
        "          bond.GetBeginAtomIdx(), \n",
        "          bond.GetEndAtomIdx(), \n",
        "          bond.IsInRing())"
      ]
    },
    {
      "cell_type": "markdown",
      "metadata": {
        "id": "DDBN3tplpu_R"
      },
      "source": [
        "## 3. Calculate some molecular properties"
      ]
    },
    {
      "cell_type": "code",
      "execution_count": 12,
      "metadata": {
        "id": "eLr37XOFpu_S"
      },
      "outputs": [],
      "source": [
        "# Define a function\n",
        "\n",
        "def property_calc(smiles):\n",
        "    MWt = []\n",
        "    logp = []\n",
        "    tpsa = []\n",
        "    H_acceptors = []\n",
        "    H_donors = []\n",
        "    \n",
        "    mols = [Chem.MolFromSmiles(smi) for smi in smiles]\n",
        "    for mol in mols:\n",
        "        # calculate molecular weight \n",
        "        mwt = Descriptors.MolWt(mol)\n",
        "        MWt.append(mwt)\n",
        "        \n",
        "        # calculate logp value       \n",
        "        lgp =  Descriptors.MolLogP(mol)\n",
        "        logp.append(lgp)\n",
        "        \n",
        "        # calculate polar surface area value \n",
        "        psa = Descriptors.TPSA(mol)\n",
        "        tpsa.append(psa)\n",
        "        \n",
        "        # calculate hydrogen acceptors\n",
        "        hba = Descriptors.NumHAcceptors(mol)\n",
        "        H_acceptors.append(hba)\n",
        "        \n",
        "        # calculate hydrogen donors \n",
        "        hbd = Descriptors.NumHDonors(mol)\n",
        "        H_donors.append(hbd)\n",
        "        \n",
        "    return MWt,logp, tpsa, H_acceptors, H_donors     "
      ]
    },
    {
      "cell_type": "code",
      "execution_count": 13,
      "metadata": {
        "id": "FAEpN9_6pu_S"
      },
      "outputs": [],
      "source": [
        "# Some SMILES\n",
        "\n",
        "smiles = ['C(=O)[O-]','CCC', 'CCO', 'c1ccccc1', 'C1CC(=O)C1']"
      ]
    },
    {
      "cell_type": "code",
      "execution_count": 14,
      "metadata": {
        "id": "X_gl__Frpu_S"
      },
      "outputs": [],
      "source": [
        "# Call a function\n",
        "\n",
        "MWt,logp, tpsa, H_acceptors, H_donors  = property_calc(smiles)"
      ]
    },
    {
      "cell_type": "code",
      "execution_count": 15,
      "metadata": {
        "id": "vt8FN4flpu_S",
        "outputId": "38b927cf-bdc6-44ba-9f30-e2a9f5604a43",
        "colab": {
          "base_uri": "https://localhost:8080/"
        }
      },
      "outputs": [
        {
          "output_type": "execute_result",
          "data": {
            "text/plain": [
              "([45.017, 44.096999999999994, 46.069, 78.11399999999999, 70.09100000000001],\n",
              " [-1.6339000000000001,\n",
              "  1.4163,\n",
              "  -0.0014000000000000123,\n",
              "  1.6866,\n",
              "  0.7394000000000001],\n",
              " [40.129999999999995, 0.0, 20.23, 0.0, 17.07],\n",
              " [2, 0, 1, 0, 1],\n",
              " [0, 0, 1, 0, 0])"
            ]
          },
          "metadata": {},
          "execution_count": 15
        }
      ],
      "source": [
        "# Values \n",
        "\n",
        "MWt,logp, tpsa, H_acceptors, H_donors"
      ]
    },
    {
      "cell_type": "code",
      "execution_count": 16,
      "metadata": {
        "id": "SN9PXLiQpu_S",
        "outputId": "fa911b4f-30de-4ab7-b7f9-fc7989b6ea2e",
        "colab": {
          "base_uri": "https://localhost:8080/"
        }
      },
      "outputs": [
        {
          "output_type": "execute_result",
          "data": {
            "text/plain": [
              "array([['C(=O)[O-]', '45.017', '-1.6339000000000001',\n",
              "        '40.129999999999995', '2', '0'],\n",
              "       ['CCC', '44.096999999999994', '1.4163', '0.0', '0', '0'],\n",
              "       ['CCO', '46.069', '-0.0014000000000000123', '20.23', '1', '1'],\n",
              "       ['c1ccccc1', '78.11399999999999', '1.6866', '0.0', '0', '0'],\n",
              "       ['C1CC(=O)C1', '70.09100000000001', '0.7394000000000001', '17.07',\n",
              "        '1', '0']], dtype='<U32')"
            ]
          },
          "metadata": {},
          "execution_count": 16
        }
      ],
      "source": [
        "# Use vertical stack \n",
        "\n",
        "stacked = np.vstack([smiles, MWt,logp, tpsa, H_acceptors, H_donors]).T\n",
        "stacked"
      ]
    },
    {
      "cell_type": "code",
      "execution_count": 17,
      "metadata": {
        "id": "zp3XKw6xpu_S"
      },
      "outputs": [],
      "source": [
        "# Columns names\n",
        "\n",
        "columns = ['SMILES','MW','logp','TPSA','H_acceptors', 'H_donors']"
      ]
    },
    {
      "cell_type": "code",
      "execution_count": 18,
      "metadata": {
        "id": "tRxw1aHSpu_S",
        "outputId": "a6e8fd7c-a7e7-4308-b4c0-463ddd998bf0",
        "colab": {
          "base_uri": "https://localhost:8080/",
          "height": 206
        }
      },
      "outputs": [
        {
          "output_type": "execute_result",
          "data": {
            "text/plain": [
              "       SMILES                  MW                    logp                TPSA  \\\n",
              "0   C(=O)[O-]              45.017     -1.6339000000000001  40.129999999999995   \n",
              "1         CCC  44.096999999999994                  1.4163                 0.0   \n",
              "2         CCO              46.069  -0.0014000000000000123               20.23   \n",
              "3    c1ccccc1   78.11399999999999                  1.6866                 0.0   \n",
              "4  C1CC(=O)C1   70.09100000000001      0.7394000000000001               17.07   \n",
              "\n",
              "  H_acceptors H_donors  \n",
              "0           2        0  \n",
              "1           0        0  \n",
              "2           1        1  \n",
              "3           0        0  \n",
              "4           1        0  "
            ],
            "text/html": [
              "\n",
              "  <div id=\"df-fd6f41e0-503d-4428-9105-119f870a6fee\">\n",
              "    <div class=\"colab-df-container\">\n",
              "      <div>\n",
              "<style scoped>\n",
              "    .dataframe tbody tr th:only-of-type {\n",
              "        vertical-align: middle;\n",
              "    }\n",
              "\n",
              "    .dataframe tbody tr th {\n",
              "        vertical-align: top;\n",
              "    }\n",
              "\n",
              "    .dataframe thead th {\n",
              "        text-align: right;\n",
              "    }\n",
              "</style>\n",
              "<table border=\"1\" class=\"dataframe\">\n",
              "  <thead>\n",
              "    <tr style=\"text-align: right;\">\n",
              "      <th></th>\n",
              "      <th>SMILES</th>\n",
              "      <th>MW</th>\n",
              "      <th>logp</th>\n",
              "      <th>TPSA</th>\n",
              "      <th>H_acceptors</th>\n",
              "      <th>H_donors</th>\n",
              "    </tr>\n",
              "  </thead>\n",
              "  <tbody>\n",
              "    <tr>\n",
              "      <th>0</th>\n",
              "      <td>C(=O)[O-]</td>\n",
              "      <td>45.017</td>\n",
              "      <td>-1.6339000000000001</td>\n",
              "      <td>40.129999999999995</td>\n",
              "      <td>2</td>\n",
              "      <td>0</td>\n",
              "    </tr>\n",
              "    <tr>\n",
              "      <th>1</th>\n",
              "      <td>CCC</td>\n",
              "      <td>44.096999999999994</td>\n",
              "      <td>1.4163</td>\n",
              "      <td>0.0</td>\n",
              "      <td>0</td>\n",
              "      <td>0</td>\n",
              "    </tr>\n",
              "    <tr>\n",
              "      <th>2</th>\n",
              "      <td>CCO</td>\n",
              "      <td>46.069</td>\n",
              "      <td>-0.0014000000000000123</td>\n",
              "      <td>20.23</td>\n",
              "      <td>1</td>\n",
              "      <td>1</td>\n",
              "    </tr>\n",
              "    <tr>\n",
              "      <th>3</th>\n",
              "      <td>c1ccccc1</td>\n",
              "      <td>78.11399999999999</td>\n",
              "      <td>1.6866</td>\n",
              "      <td>0.0</td>\n",
              "      <td>0</td>\n",
              "      <td>0</td>\n",
              "    </tr>\n",
              "    <tr>\n",
              "      <th>4</th>\n",
              "      <td>C1CC(=O)C1</td>\n",
              "      <td>70.09100000000001</td>\n",
              "      <td>0.7394000000000001</td>\n",
              "      <td>17.07</td>\n",
              "      <td>1</td>\n",
              "      <td>0</td>\n",
              "    </tr>\n",
              "  </tbody>\n",
              "</table>\n",
              "</div>\n",
              "      <button class=\"colab-df-convert\" onclick=\"convertToInteractive('df-fd6f41e0-503d-4428-9105-119f870a6fee')\"\n",
              "              title=\"Convert this dataframe to an interactive table.\"\n",
              "              style=\"display:none;\">\n",
              "        \n",
              "  <svg xmlns=\"http://www.w3.org/2000/svg\" height=\"24px\"viewBox=\"0 0 24 24\"\n",
              "       width=\"24px\">\n",
              "    <path d=\"M0 0h24v24H0V0z\" fill=\"none\"/>\n",
              "    <path d=\"M18.56 5.44l.94 2.06.94-2.06 2.06-.94-2.06-.94-.94-2.06-.94 2.06-2.06.94zm-11 1L8.5 8.5l.94-2.06 2.06-.94-2.06-.94L8.5 2.5l-.94 2.06-2.06.94zm10 10l.94 2.06.94-2.06 2.06-.94-2.06-.94-.94-2.06-.94 2.06-2.06.94z\"/><path d=\"M17.41 7.96l-1.37-1.37c-.4-.4-.92-.59-1.43-.59-.52 0-1.04.2-1.43.59L10.3 9.45l-7.72 7.72c-.78.78-.78 2.05 0 2.83L4 21.41c.39.39.9.59 1.41.59.51 0 1.02-.2 1.41-.59l7.78-7.78 2.81-2.81c.8-.78.8-2.07 0-2.86zM5.41 20L4 18.59l7.72-7.72 1.47 1.35L5.41 20z\"/>\n",
              "  </svg>\n",
              "      </button>\n",
              "      \n",
              "  <style>\n",
              "    .colab-df-container {\n",
              "      display:flex;\n",
              "      flex-wrap:wrap;\n",
              "      gap: 12px;\n",
              "    }\n",
              "\n",
              "    .colab-df-convert {\n",
              "      background-color: #E8F0FE;\n",
              "      border: none;\n",
              "      border-radius: 50%;\n",
              "      cursor: pointer;\n",
              "      display: none;\n",
              "      fill: #1967D2;\n",
              "      height: 32px;\n",
              "      padding: 0 0 0 0;\n",
              "      width: 32px;\n",
              "    }\n",
              "\n",
              "    .colab-df-convert:hover {\n",
              "      background-color: #E2EBFA;\n",
              "      box-shadow: 0px 1px 2px rgba(60, 64, 67, 0.3), 0px 1px 3px 1px rgba(60, 64, 67, 0.15);\n",
              "      fill: #174EA6;\n",
              "    }\n",
              "\n",
              "    [theme=dark] .colab-df-convert {\n",
              "      background-color: #3B4455;\n",
              "      fill: #D2E3FC;\n",
              "    }\n",
              "\n",
              "    [theme=dark] .colab-df-convert:hover {\n",
              "      background-color: #434B5C;\n",
              "      box-shadow: 0px 1px 3px 1px rgba(0, 0, 0, 0.15);\n",
              "      filter: drop-shadow(0px 1px 2px rgba(0, 0, 0, 0.3));\n",
              "      fill: #FFFFFF;\n",
              "    }\n",
              "  </style>\n",
              "\n",
              "      <script>\n",
              "        const buttonEl =\n",
              "          document.querySelector('#df-fd6f41e0-503d-4428-9105-119f870a6fee button.colab-df-convert');\n",
              "        buttonEl.style.display =\n",
              "          google.colab.kernel.accessAllowed ? 'block' : 'none';\n",
              "\n",
              "        async function convertToInteractive(key) {\n",
              "          const element = document.querySelector('#df-fd6f41e0-503d-4428-9105-119f870a6fee');\n",
              "          const dataTable =\n",
              "            await google.colab.kernel.invokeFunction('convertToInteractive',\n",
              "                                                     [key], {});\n",
              "          if (!dataTable) return;\n",
              "\n",
              "          const docLinkHtml = 'Like what you see? Visit the ' +\n",
              "            '<a target=\"_blank\" href=https://colab.research.google.com/notebooks/data_table.ipynb>data table notebook</a>'\n",
              "            + ' to learn more about interactive tables.';\n",
              "          element.innerHTML = '';\n",
              "          dataTable['output_type'] = 'display_data';\n",
              "          await google.colab.output.renderOutput(dataTable, element);\n",
              "          const docLink = document.createElement('div');\n",
              "          docLink.innerHTML = docLinkHtml;\n",
              "          element.appendChild(docLink);\n",
              "        }\n",
              "      </script>\n",
              "    </div>\n",
              "  </div>\n",
              "  "
            ]
          },
          "metadata": {},
          "execution_count": 18
        }
      ],
      "source": [
        "# Put the values in the dataframe\n",
        "\n",
        "df = pd.DataFrame(data=stacked, columns=columns)\n",
        "df"
      ]
    },
    {
      "cell_type": "code",
      "execution_count": 19,
      "metadata": {
        "id": "M6mXjb-upu_S",
        "outputId": "978fdfda-fb05-4a9e-8681-9fe328480055",
        "colab": {
          "base_uri": "https://localhost:8080/"
        }
      },
      "outputs": [
        {
          "output_type": "execute_result",
          "data": {
            "text/plain": [
              "208"
            ]
          },
          "metadata": {},
          "execution_count": 19
        }
      ],
      "source": [
        "# All descriptors in RDKit\n",
        "\n",
        "len(Descriptors._descList)"
      ]
    },
    {
      "cell_type": "markdown",
      "metadata": {
        "id": "UQYB1QUKpu_S"
      },
      "source": [
        "If you wish to calculate all the descriptors available in RDKit click this [video](https://www.youtube.com/watch?v=9i9SY6Nd1Zw&t=60s) or [notebook](https://github.com/gashawmg/molecular-descriptors/blob/main/Molecular%20descriptors.ipynb) "
      ]
    }
  ],
  "metadata": {
    "kernelspec": {
      "display_name": "Python 3",
      "language": "python",
      "name": "python3"
    },
    "language_info": {
      "codemirror_mode": {
        "name": "ipython",
        "version": 3
      },
      "file_extension": ".py",
      "mimetype": "text/x-python",
      "name": "python",
      "nbconvert_exporter": "python",
      "pygments_lexer": "ipython3",
      "version": "3.8.5"
    },
    "colab": {
      "provenance": [],
      "include_colab_link": true
    }
  },
  "nbformat": 4,
  "nbformat_minor": 0
}