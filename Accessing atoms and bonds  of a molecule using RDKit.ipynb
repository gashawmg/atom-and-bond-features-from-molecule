{
 "cells": [
  {
   "cell_type": "markdown",
   "metadata": {},
   "source": [
    "<div style=\"background-color:lightgreen; border-style: double;border-color: #00beef;text-align:center;color:blue;font-size:25px;border-radius: 50px;padding: 20px 20px; font-family:Raleway;\"><strong> Gashaw M. Goshu, Ph.D. in Chemistry</strong></div>"
   ]
  },
  {
   "cell_type": "markdown",
   "metadata": {},
   "source": [
    "<div style=\"text-align:left;color:darkblue;font-size:20px; padding: 20px 20px;\"><strong> Generating a molecular graph in RDKit, and accessing its atoms and bonds </strong></div>"
   ]
  },
  {
   "cell_type": "markdown",
   "metadata": {},
   "source": [
    "Reference: RdKit [documentation](https://www.rdkit.org/docs/GettingStartedInPython.html)"
   ]
  },
  {
   "cell_type": "code",
   "execution_count": 1,
   "metadata": {},
   "outputs": [],
   "source": [
    "# ----------------------------------\n",
    "from rdkit.Chem import AllChem\n",
    "from rdkit import Chem\n",
    "from rdkit.Chem import Descriptors\n",
    "# --- ------------------------------\n",
    "import numpy as np\n",
    "import pandas as pd"
   ]
  },
  {
   "cell_type": "markdown",
   "metadata": {},
   "source": [
    "# Molecular Representation"
   ]
  },
  {
   "cell_type": "code",
   "execution_count": 4,
   "metadata": {},
   "outputs": [
    {
     "data": {
      "image/png": "[encoded data removed]",
      "text/plain": [
       "<rdkit.Chem.rdchem.Mol at 0x23cc7b78ee0>"
      ]
     },
     "execution_count": 4,
     "metadata": {},
     "output_type": "execute_result"
    }
   ],
   "source": [
    "# Molecular graph\n",
    "mol= Chem.MolFromSmiles('CC(=O)[O-]')\n",
    "mol"
   ]
  },
  {
   "cell_type": "markdown",
   "metadata": {},
   "source": [
    "## 1. Accessing atoms and their features from a molecular graph\n",
    "Atom has :\n",
    "* symbol, \n",
    "* index,\n",
    "* atomic number,\n",
    "* atomic mass, \n",
    "* hybridization and so on."
   ]
  },
  {
   "cell_type": "code",
   "execution_count": 5,
   "metadata": {},
   "outputs": [
    {
     "data": {
      "text/plain": [
       "6"
      ]
     },
     "execution_count": 5,
     "metadata": {},
     "output_type": "execute_result"
    }
   ],
   "source": [
    "# Get atomic number \n",
    "mol.GetAtoms()[0].GetAtomicNum()"
   ]
  },
  {
   "cell_type": "markdown",
   "metadata": {},
   "source": [
    "## Need to use a for loop"
   ]
  },
  {
   "cell_type": "code",
   "execution_count": null,
   "metadata": {},
   "outputs": [],
   "source": [
    "# Accessing atomic symbol \n",
    "atom_symbols = []\n",
    "\n",
    "for atom in mol.GetAtoms():\n",
    "    atom_symbols.append(atom.GetSymbol())"
   ]
  },
  {
   "cell_type": "code",
   "execution_count": null,
   "metadata": {
    "scrolled": true
   },
   "outputs": [],
   "source": [
    "atom_symbols"
   ]
  },
  {
   "cell_type": "code",
   "execution_count": null,
   "metadata": {},
   "outputs": [],
   "source": [
    "# Accessing atomic symbols\n",
    "\n",
    "atm_symbols = [atom.GetSymbol() for atom in mol.GetAtoms()]\n",
    "atm_symbols"
   ]
  },
  {
   "cell_type": "code",
   "execution_count": null,
   "metadata": {},
   "outputs": [],
   "source": [
    "# Calculate the total number hydrogens\n",
    "\n",
    "nub_hydrogens = [atom.GetTotalNumHs(includeNeighbors=True) for atom in mol.GetAtoms()]\n",
    "nub_hydrogens"
   ]
  },
  {
   "cell_type": "code",
   "execution_count": null,
   "metadata": {},
   "outputs": [],
   "source": [
    "# Informatin about Atoms\n",
    "\n",
    "for atom in mol.GetAtoms():\n",
    "    print(atom.GetIdx(),\n",
    "          atom.GetSymbol(), \n",
    "          atom.GetAtomicNum(),\n",
    "          atom.GetMass(),\n",
    "          atom.GetHybridization(),\n",
    "          atom.GetFormalCharge(),\n",
    "          atom.GetDegree(),\n",
    "          atom.GetTotalNumHs(includeNeighbors=True),\n",
    "          atom.GetExplicitValence(),\n",
    "          atom.GetIsAromatic())"
   ]
  },
  {
   "cell_type": "markdown",
   "metadata": {},
   "source": [
    "##  2. Accessing bonds from a molecule\n"
   ]
  },
  {
   "cell_type": "code",
   "execution_count": null,
   "metadata": {},
   "outputs": [],
   "source": [
    "# Accessing single, double and triple bonds\n",
    "\n",
    "[bond.GetBondTypeAsDouble() for bond in mol.GetBonds()]"
   ]
  },
  {
   "cell_type": "code",
   "execution_count": null,
   "metadata": {},
   "outputs": [],
   "source": [
    "# Informatin about Bonds\n",
    "\n",
    "for bond in mol.GetBonds():\n",
    "    print(bond.GetBondTypeAsDouble(),\n",
    "          bond.GetBeginAtomIdx(), \n",
    "          bond.GetEndAtomIdx(), \n",
    "          bond.IsInRing())"
   ]
  },
  {
   "cell_type": "markdown",
   "metadata": {},
   "source": [
    "## 3. Calculate some molecular properties"
   ]
  },
  {
   "cell_type": "code",
   "execution_count": null,
   "metadata": {},
   "outputs": [],
   "source": [
    "# Define a function\n",
    "\n",
    "def property_calc(smiles):\n",
    "    MWt = []\n",
    "    logp = []\n",
    "    tpsa = []\n",
    "    H_acceptors = []\n",
    "    H_donors = []\n",
    "    \n",
    "    mols = [Chem.MolFromSmiles(smi) for smi in smiles]\n",
    "    for mol in mols:\n",
    "        # calculate molecular weight \n",
    "        mwt = Descriptors.MolWt(mol)\n",
    "        MWt.append(mwt)\n",
    "        \n",
    "        # calculate logp value       \n",
    "        lgp =  Descriptors.MolLogP(mol)\n",
    "        logp.append(lgp)\n",
    "        \n",
    "        # calculate polar surface area value \n",
    "        psa = Descriptors.TPSA(mol)\n",
    "        tpsa.append(psa)\n",
    "        \n",
    "        # calculate hydrogen acceptors\n",
    "        hba = Descriptors.NumHAcceptors(mol)\n",
    "        H_acceptors.append(hba)\n",
    "        \n",
    "        # calculate hydrogen donors \n",
    "        hbd = Descriptors.NumHDonors(mol)\n",
    "        H_donors.append(hbd)\n",
    "        \n",
    "    return MWt,logp, tpsa, H_acceptors, H_donors     "
   ]
  },
  {
   "cell_type": "code",
   "execution_count": null,
   "metadata": {},
   "outputs": [],
   "source": [
    "# Some SMILES\n",
    "\n",
    "smiles = ['C(=O)[O-]','CCC', 'CCO', 'c1ccccc1', 'C1CC(=O)C1']"
   ]
  },
  {
   "cell_type": "code",
   "execution_count": null,
   "metadata": {},
   "outputs": [],
   "source": [
    "# Call a function\n",
    "\n",
    "MWt,logp, tpsa, H_acceptors, H_donors  = property_calc(smiles)"
   ]
  },
  {
   "cell_type": "code",
   "execution_count": null,
   "metadata": {},
   "outputs": [],
   "source": [
    "# Values \n",
    "\n",
    "MWt,logp, tpsa, H_acceptors, H_donors"
   ]
  },
  {
   "cell_type": "code",
   "execution_count": null,
   "metadata": {},
   "outputs": [],
   "source": [
    "# Use vertical stack \n",
    "\n",
    "stacked = np.vstack([smiles, MWt,logp, tpsa, H_acceptors, H_donors]).T\n",
    "stacked"
   ]
  },
  {
   "cell_type": "code",
   "execution_count": null,
   "metadata": {},
   "outputs": [],
   "source": [
    "# Columns names\n",
    "\n",
    "columns = ['SMILES','MW','logp','TPSA','H_acceptors', 'H_donors']"
   ]
  },
  {
   "cell_type": "code",
   "execution_count": null,
   "metadata": {},
   "outputs": [],
   "source": [
    "# Put the values in the dataframe\n",
    "\n",
    "df = pd.DataFrame(data=stacked, columns=columns)\n",
    "df"
   ]
  },
  {
   "cell_type": "code",
   "execution_count": null,
   "metadata": {},
   "outputs": [],
   "source": [
    "# All descriptors in RDKit\n",
    "\n",
    "len(Descriptors._descList)"
   ]
  },
  {
   "cell_type": "markdown",
   "metadata": {},
   "source": [
    "If you wish to calculate all the descriptors available in RDKit click this [video](https://www.youtube.com/watch?v=9i9SY6Nd1Zw&t=60s) or [notebook](https://github.com/gashawmg/molecular-descriptors/blob/main/Molecular%20descriptors.ipynb) "
   ]
  }
 ],
 "metadata": {
  "kernelspec": {
   "display_name": "Python 3",
   "language": "python",
   "name": "python3"
  },
  "language_info": {
   "codemirror_mode": {
    "name": "ipython",
    "version": 3
   },
   "file_extension": ".py",
   "mimetype": "text/x-python",
   "name": "python",
   "nbconvert_exporter": "python",
   "pygments_lexer": "ipython3",
   "version": "3.8.5"
  }
 },
 "nbformat": 4,
 "nbformat_minor": 4
}
